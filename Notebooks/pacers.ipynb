{
 "cells": [
  {
   "cell_type": "markdown",
   "metadata": {},
   "source": [
    "# <center>Análise da temporada regular 23-24 do Indiana Pacers</center>"
   ]
  },
  {
   "cell_type": "markdown",
   "metadata": {},
   "source": [
    "A temporada 23-24 da NBA (National Basketball Association) trouxe diversas surpresas aos fãs de basquete, como a campanha do Dallas Mavericks até as Finais da NBA, o improvável núcleo jovem do Oklahoma City Thunder liderando a Conferência Oeste e a dominância do Boston Celtics, que conquistou 64 vitórias. No entanto, em especial, destaca-se o Indiana Pacers. Vindo de duas temporadas pífias — nas quais amargou, respectivamente, a 13ª e a 11ª colocação, ambas com recorde negativo —, a equipe de Indianápolis emergiu com uma nova identidade, marcada por um ataque explosivo, rápido e altamente efetivo. Essas características levaram a equipe a uma campanha de 47 vitórias e 35 derrotas, à final da primeira edição da NBA Cup e, ainda, a uma ida às Finais da Conferência Leste pela primeira vez desde 2014.\n",
    "\n",
    "Diante disso, este estudo busca responder à seguinte <i>business question</i>: <strong>\"Quais aftores estatísticos mais contribuíram para o sucesso do Indiana Pacers na temporada 23-24 e quais podem ser melhorados?\"</strong>\n",
    "\n",
    "A partir dessa questão central, o estudo adota uma abordagem descritiva, combinando dados estatísticos individuais e coletivos. Serão explorados o desempenho dos jogadores, a comparação entre os Pacers e outras franquias — tanto em nível coletivo quanto individual — e a identificação dos principais pontos fortes e fracos da equipe. O objetivo é fornecer uma visão quantitativa sobre a temporada, gerando insights que possam apoiar decisões técnicas, estratégicas e de scouting para o futuro."
   ]
  },
  {
   "cell_type": "markdown",
   "metadata": {},
   "source": [
    "<h2> <center>Dados"
   ]
  },
  {
   "cell_type": "markdown",
   "metadata": {},
   "source": [
    "Para esta análise serão utilizados dois datasets, um com as estatísticas de todos os jogadores que jogaram alguma partida da NBA na temporada regular 23-24 e um com as estatísticas coletivas de todas as temporadas da NBA."
   ]
  },
  {
   "cell_type": "code",
   "execution_count": 4,
   "metadata": {},
   "outputs": [],
   "source": [
    "#Importando as bibliotecas necessárias\n",
    "import pandas as pd\n",
    "import matplotlib.pyplot as plt\n",
    "import seaborn as sns\n",
    "from utils import *\n",
    "from plot import *"
   ]
  },
  {
   "cell_type": "code",
   "execution_count": null,
   "metadata": {},
   "outputs": [],
   "source": [
    "#Carregandos os datasets\n",
    "df_players = pd.read_csv(\"Nba-player-data(in).csv\") #Dataframe com as estatísticas dos jogadores\n",
    "df_teams = pd.read_csv(\"all_season_datenbank.csv\") #Dataframe com as estatísticas dos times"
   ]
  },
  {
   "cell_type": "code",
   "execution_count": null,
   "metadata": {},
   "outputs": [],
   "source": [
    "#Visualização das 5 primeiras e 5 últimas linhas do dataframe dos jogadores\n",
    "df_players.head()"
   ]
  },
  {
   "cell_type": "code",
   "execution_count": null,
   "metadata": {},
   "outputs": [],
   "source": [
    "#Visualização das 5 primeiras e 5 últimas linhas do dataframe dos times\n",
    "df_teams.head()"
   ]
  },
  {
   "cell_type": "markdown",
   "metadata": {},
   "source": [
    "<h2> <center>Pré-processamento dos dados"
   ]
  },
  {
   "cell_type": "code",
   "execution_count": null,
   "metadata": {},
   "outputs": [],
   "source": [
    "#Checando a dimensão dos dados\n",
    "print(f\"Número de linhas e colunas do dataset dos jogadores: {df_players.shape[0]}, {df_players.shape[1]}\")\n",
    "print(f\"Número de linhas e colunas do dataset dos times: {df_teams.shape[0]}, {df_teams.shape[1]}\")"
   ]
  },
  {
   "cell_type": "code",
   "execution_count": null,
   "metadata": {},
   "outputs": [],
   "source": [
    "#Informações do Dataframe dos jogadores\n",
    "df_players.info()"
   ]
  },
  {
   "cell_type": "code",
   "execution_count": null,
   "metadata": {},
   "outputs": [],
   "source": [
    "#Informações do Dataframe dos times\n",
    "df_teams.info()"
   ]
  },
  {
   "cell_type": "markdown",
   "metadata": {},
   "source": [
    "Os dois Dataframes possuem valores nulos. Para análise iremos preenchê-los com o inteiro \"0\"."
   ]
  },
  {
   "cell_type": "code",
   "execution_count": null,
   "metadata": {},
   "outputs": [],
   "source": [
    "df_players.fillna(0, inplace = True)\n",
    "df_teams.fillna(0, inplace = True)"
   ]
  },
  {
   "cell_type": "markdown",
   "metadata": {},
   "source": [
    "Uma das linhas do df_players possui valores apenas no formato \"object\". Ela será removida para não causar erros."
   ]
  },
  {
   "cell_type": "code",
   "execution_count": null,
   "metadata": {},
   "outputs": [],
   "source": [
    "#Exclusão de linhas desnecessárias\n",
    "df_players = df_players.drop(28)"
   ]
  },
  {
   "cell_type": "markdown",
   "metadata": {},
   "source": [
    "Irei modificar os tipos de dados de algumas colunas do players_df, pois os dados númericos estão no tipo \"object\"."
   ]
  },
  {
   "cell_type": "code",
   "execution_count": null,
   "metadata": {},
   "outputs": [],
   "source": [
    "convert_to_int(df_players, [\"Age\", \"G\", \"GS\"]) #Conversão de object para int64\n",
    "convert_to_float(df_players, [\"MP\", \"FG\", \"FGA\", \"FG%\", \"3P\", \"3PA\", \"3P%\", \"2P\", \"2PA\", \"2P%\", \"eFG%\", \"FT\", \"FTA\", \"FT%\", \"ORB\", \"DRB\", \"TRB\", \"AST\", \"STL\", \"BLK\", \"TOV\", \"PF\", \"PTS\"]) #Conversão de object para float64\n",
    "\n",
    "df_players.info()"
   ]
  },
  {
   "cell_type": "markdown",
   "metadata": {},
   "source": [
    "Irei inserir uma nova coluna no df_players e duas no df_teams. As colunas serão chamadas de \"STK\" (soma das médias de roubos (STL) e tocos (BLK)) e \"OSTK\" (soma das médias de roubos (STL) e tocos (BLK) dos rivais de um determinado time)."
   ]
  },
  {
   "cell_type": "code",
   "execution_count": null,
   "metadata": {},
   "outputs": [],
   "source": [
    "#Inserção da coluna \"Stocks (STK)\" e \"Opponnent stocks (OSTK)\", a qual é necessária para as análises\n",
    "df_players.insert(25, \"STK\", df_players[\"BLK\"] + df_players[\"STL\"])\n",
    "df_teams.insert(22, \"STK\", df_teams[\"BLK\"] + df_teams[\"STL\"])\n",
    "df_teams.insert(43, \"OSTK\", df_teams[\"OBLK\"] + df_teams[\"OSTL\"])"
   ]
  },
  {
   "cell_type": "markdown",
   "metadata": {},
   "source": [
    "Várias colunas que estão presentes nos datasets não serão usadas. Diante disto, irei removê-las"
   ]
  },
  {
   "cell_type": "code",
   "execution_count": null,
   "metadata": {},
   "outputs": [],
   "source": [
    "#Excluindo colunas desnecessárias do df_players\n",
    "df_players.drop(\"TOV\", axis = 1, inplace = True)\n",
    "df_players.drop(\"PF\", axis = 1, inplace = True)\n",
    "\n",
    "#Excluindo colunas desnecessárias do df_teams\n",
    "df_teams.drop(\"FT\", axis = 1, inplace = True)\n",
    "df_teams.drop(\"FTA\", axis = 1, inplace = True)\n",
    "df_teams.drop(\"2P\", axis = 1, inplace = True)\n",
    "df_teams.drop(\"2PA\", axis = 1, inplace = True)\n",
    "df_teams.drop(\"3P\", axis = 1, inplace = True)\n",
    "df_teams.drop(\"3PA\", axis = 1, inplace = True)\n",
    "df_teams.drop(\"FG\", axis = 1, inplace = True)\n",
    "df_teams.drop(\"FGA\", axis = 1, inplace = True)\n",
    "df_teams.drop(\"OFT\", axis = 1, inplace = True)\n",
    "df_teams.drop(\"OFTA\", axis = 1, inplace = True)\n",
    "df_teams.drop(\"O2P\", axis = 1, inplace = True)\n",
    "df_teams.drop(\"O2PA\", axis = 1, inplace = True)\n",
    "df_teams.drop(\"O3P\", axis = 1, inplace = True)\n",
    "df_teams.drop(\"O3PA\", axis = 1, inplace = True)\n",
    "df_teams.drop(\"OFG\", axis = 1, inplace = True)\n",
    "df_teams.drop(\"OFGA\", axis = 1, inplace = True)\n",
    "df_teams.drop(\"BLK\", axis = 1, inplace = True)\n",
    "df_teams.drop(\"STL\", axis = 1, inplace = True)\n",
    "df_teams.drop(\"OSTL\", axis = 1, inplace = True)\n",
    "df_teams.drop(\"OBLK\", axis = 1, inplace = True)\n",
    "df_teams.drop(\"TOV\", axis = 1, inplace = True)\n",
    "df_teams.drop(\"OTOV\", axis = 1, inplace = True)\n",
    "df_teams.drop(\"PF\", axis = 1, inplace = True)\n",
    "df_teams.drop(\"OPF\", axis = 1, inplace = True)\n",
    "df_teams.drop(\"Unnamed: 0\", axis = 1, inplace = True)\n",
    "df_teams.drop(\"champion\", axis = 1, inplace = True)"
   ]
  },
  {
   "cell_type": "markdown",
   "metadata": {},
   "source": [
    "Como o estudo contempla apenas dados da temporada 2023-2024, filtrarei apenas as df_teams para ele conter apenas os dados referente a esta temporada"
   ]
  },
  {
   "cell_type": "code",
   "execution_count": null,
   "metadata": {},
   "outputs": [],
   "source": [
    "df_teams = df_teams.loc[df_teams[\"season\"] == 2024].sort_values(by = \"PTS\", ascending = False)"
   ]
  },
  {
   "cell_type": "code",
   "execution_count": null,
   "metadata": {},
   "outputs": [],
   "source": [
    "print(df_players.columns)\n",
    "print(df_teams.columns)"
   ]
  },
  {
   "cell_type": "markdown",
   "metadata": {},
   "source": [
    "Algumas colunas necessárias para o estudo estão com os dados no formato de porcentagem decimal. Para melhorar a visualização dos gráficos, transformarei em porcentagem percentual"
   ]
  },
  {
   "cell_type": "code",
   "execution_count": null,
   "metadata": {},
   "outputs": [],
   "source": [
    "#Transformação das colunas que serão usadas de porcentagem decimal para porcentagem percentual\n",
    "percentage_transformation(df_players, [\"3P%\", \"2P%\", \"FT%\", \"eFG%\", \"FG%\"])\n",
    "percentage_transformation(df_teams, [\"3P%\", \"2P%\", \"FT%\", \"FG%\", \"OFG%\", \"O2P%\", \"O3P%\", \"OFT%\"])"
   ]
  },
  {
   "cell_type": "markdown",
   "metadata": {},
   "source": [
    "<h2> <center> Análise Descritiva dos Dados (ADD) coletivos do Indiana Pacers"
   ]
  },
  {
   "cell_type": "markdown",
   "metadata": {},
   "source": [
    "Nesta análise descritiva irei analisar as relações entre as estatísticas coletivas do Indiana Pacers em compararação com as estatísticas coletivas dos outros times da liga. Isto irá me ajudar a compreender o impacto que cada fundamento possui na performance do Indiana e quais seus pontos fortes ofensivamemente e defensivamente."
   ]
  },
  {
   "cell_type": "markdown",
   "metadata": {},
   "source": [
    "<h3> <center> Gráficos de estatísticas acumulativas"
   ]
  },
  {
   "cell_type": "markdown",
   "metadata": {},
   "source": [
    "As estatísticas acumulativas abrangem a média estatística dos times em determinados fundamentos. Elas são obtidas pela somatória da estatística determinada em todos os jogos da temporada, dividida pelo número total de partidas (82). As estatísticas acumulativas serão divididas em duas figuras, cada uma contendo 6 gráficos. Os gráficos apresentarão as médias e as posições do Indiana Pacers no ranking, bem como dos outros 7 melhores times no quesito. Os gráficos também terão uma linha vermelha, que representa a média da liga nesse aspecto.\n",
    "\n",
    "A primeira figura conterá os gráficos com as estatísticas:\n",
    "<ul>\n",
    "    <li> Pontos por jogo (PTS) </li>\n",
    "    <li> Rebotes totais por jogo (TRB) </li>\n",
    "    <li> Rebotes ofensivos por jogo (ORB) </li>\n",
    "    <li> Rebotes defensivos por jogo (DRB) </li>\n",
    "    <li> Assistências por jogo (AST) </li>\n",
    "    <li> Stocks por jogo (STK) </li>\n",
    "</ul>\n",
    "\n",
    "A segunda conterá:\n",
    "<ul>\n",
    "    <li> Pontos por jogo do adversário (OPPG) </li>\n",
    "    <li> Rebotes totais por jogo do adversário (OTRB) </li>\n",
    "    <li> Rebotes ofensivos por jogo do adversário (OORB) </li>\n",
    "    <li> Rebotes defensivos por jogo do adversário (ODRB) </li>\n",
    "    <li> Assistências por jogo do adversário (OAST) </li>\n",
    "    <li> Stocks por jogo do adversário (OSTK) </li>\n",
    "</ul>"
   ]
  },
  {
   "cell_type": "code",
   "execution_count": null,
   "metadata": {},
   "outputs": [],
   "source": [
    "#Gráficos de estatísticas acumulativas do time\n",
    "ranking_barchart(df_teams, [\"PTS\", \"TRB\", \"ORB\", \"DRB\", \"AST\", \"STK\"])"
   ]
  },
  {
   "cell_type": "markdown",
   "metadata": {},
   "source": [
    "De acordo com os gráficos, pode-se concluir que:\n",
    "<ul>\n",
    "    <li> O Indiana Pacers possui o melhor ataque em pontos por jogo da liga;</li>\n",
    "    <li> Além de possuir o melhor ataque em pontos por jogo, também é o time que mais distribui assistências, demonstrando ser um sistema ofensivo baseado na troca de passes e movimentação constante;</li>\n",
    "    <li> O Pacers é um bom time nas principais estatísticas defensivas coletivas, ficando em quinto lugar no ranking de Stocks; </li>\n",
    "    <li> Indiana é um time mediano em rebotes ofensivos, estatística de suma importância para a manutenção da posse de bola e segundas chances de pontuação. Ao mesmo tempo, os Pacers também são um dos piores times da liga em rebotes defensivos, estando na 27ª posição no ranking e mais de 5 rebotes atrás do 1º colocado, o que gera muitas segundas chances de pontuação para os adversários e, consequentemente, transforma-se em pontos contra; </li>\n",
    "    <li> O time está abaixo da média em todas as instâncias possíveis no quesito rebotes, demonstrando que esta é a principal vulnerabilidade da equipe. </li>\n",
    "</ul>\n",
    "\n",
    "Para o problema dos rebotes, pode-se formular uma hipótese como causa principal: a falta de jogadores especialistas em rebotes, principalmente nas posições de pivô e ala-pivô, as quais costumam cobrir o garrafão."
   ]
  },
  {
   "cell_type": "code",
   "execution_count": null,
   "metadata": {},
   "outputs": [],
   "source": [
    "#Gráfico de estatísticas acumulativas dos oponentes dos times\n",
    "ranking_barchart(df_teams, [\"OPTS\", \"OTRB\", \"OORB\", \"ODRB\", \"OAST\", \"OSTK\"], True)"
   ]
  },
  {
   "cell_type": "markdown",
   "metadata": {},
   "source": [
    "Os gráficos acima mostram a média das estatísticas que os times cedem aos seus adversários. No caso destes gráficos, quanto menor o número, melhor a performance defensiva. Dito isso, alguns pontos notáveis são:\n",
    "<ul>\n",
    "    <li> Os Pacers são uma das piores defesas em pontos cedidos por jogo (OPTS), com 120,2 — um número altíssimo que acaba ofuscando as boas médias defensivas, como as assistências cedidas por jogo (OAST) e os stocks (STK). Além disso, é um desempenho pior do que o de alguns times que tiveram campanha negativa. Este número se torna ainda mais preocupante quando comparado à média de pontos por jogo do próprio Indiana (123,3), o que representa um saldo positivo de apenas 3,1 pontos por jogo e uma diferença de 25 posições entre o ataque e a defesa;</li>\n",
    "    <li> A média de rebotes ofensivos cedidos por jogo (OORB) também é um ponto negativo. Cedendo 11,0 rebotes ofensivos por jogo, os Pacers ocupam apenas a 23ª posição no fundamento. Isso é coerente com a média de rebotes defensivos (DRB) do Indiana e com a hipótese da falta de talento dos principais jogadores do time responsáveis pelo quesito. Esta estatística também está intimamente ligada ao OPTS da equipe, pois quanto mais rebotes ofensivos cedidos, mais chances os rivais têm de pontuar; </li>\n",
    "    <li> A franquia tem uma boa média de rebotes defensivos cedidos por jogo, o que implica em um bom aproveitamento nos arremessos adversários.</li>\n",
    "</ul>"
   ]
  },
  {
   "cell_type": "markdown",
   "metadata": {},
   "source": [
    "<h3> <center> Gráficos de estatísticas percentuais"
   ]
  },
  {
   "cell_type": "markdown",
   "metadata": {},
   "source": [
    "As estatísticas percentuais são estatísticas que representam uma taxa de acerto. Elas são obtidas pela divisão da quantidade de acertos de determinado fundamento pela quantidade de tentativas no mesmo fundamento, e, por fim, multiplicadas por 100. Diferentemente das estatísticas acumulativas, aqui as duas figuras terão apenas 4 gráficos. Os gráficos apresentarão as médias percentuais e as posições no ranking do Indiana e dos outros 7 melhores times no quesito. Os gráficos também terão uma linha vermelha, que representa a média percentual da liga nesse aspecto.\n",
    "A primeira figura conterá os gráficos com as estatísticas:\n",
    "<ul>\n",
    "    <li>Porcentagem de acerto dos arremessos de quadra (FG%)</li>\n",
    "    <li>Porcentagem de acerto dos arremessos de 2 pontos (2P%)</li>\n",
    "    <li>Porcentagem de acerto dos arremessos de 3 pontos (3P%)</li>\n",
    "    <li>Porcentagem de acerto dos lances livres (FT%)</li>\n",
    "</ul>\n",
    "\n",
    "A segunda conterá:\n",
    "<ul>\n",
    "    <li>Porcentagem de acerto dos arremessos de quadra dos oponentes (OFG%)</li>\n",
    "    <li>Porcentagem de acerto dos arremessos de 2 pontos dos oponentes (O2P%)</li>\n",
    "    <li>Porcentagem de acerto dos arremessos de 3 pontos dos oponentes (O3P%)</li>\n",
    "    <li>Porcentagem de acerto dos lances livres dos oponentes (OFT%)</li>\n",
    "</ul>"
   ]
  },
  {
   "cell_type": "code",
   "execution_count": null,
   "metadata": {},
   "outputs": [],
   "source": [
    "#Gráfico de estatísticas percentuais dos times\n",
    "ranking_barchart(df_teams, [\"FG%\", \"2P%\", \"3P%\", \"FT%\"])"
   ]
  },
  {
   "cell_type": "markdown",
   "metadata": {},
   "source": [
    "Observa-se que:\n",
    "<ul>\n",
    "    <li> Indiana tem a melhor porcentagem de arremessos convertidos da liga (eFG%), refletindo um sistema ofensivo bem coordenado e com boa seleção de arremessos; </li>\n",
    "    <li> Os Pacers também lideram a competição nos arremessos de 2 pontos, com quase 1,5% de diferença para o segundo colocado, o Boston Celtics; </li>\n",
    "    <li> A taxa de acerto em arremessos de 3 pontos é acima da média, porém não dominante. Isso mostra que o time provavelmente prioriza arremessos com maior probabilidade de conversão, como bandejas e enterradas; </li>\n",
    "    <li> A eficiência em arremessos livres está na média da liga. </li>\n",
    "</ul>"
   ]
  },
  {
   "cell_type": "code",
   "execution_count": null,
   "metadata": {},
   "outputs": [],
   "source": [
    "#Gráfico de estatísticas percentuais dos oponentes dos times\n",
    "ranking_barchart(df_teams, [\"OFG%\", \"O2P%\", \"O3P%\", \"OFT%\"], True)"
   ]
  },
  {
   "cell_type": "markdown",
   "metadata": {},
   "source": [
    "Como os gráficos abordam as estatísticas dos rivais, quanto menor o percentual, melhor o desempenho. Nota-se então que:\n",
    "<ol>\n",
    "    <li> O Indiana Pacers é um dos times que mais cede arremessos convertidos na liga. Sua defesa contra arremessos de dois pontos é péssima, e a de três pontos, apenas mediana. O time é o terceiro que mais cede arremessos convertidos, o que explica sofrer 120,2 pontos por jogo; </li>\n",
    "    <li> A defesa interior é muito frágil. Cedendo 56% dos arremessos de dois pontos, Indiana fica em 24° no ranking, permitindo muitos arremessos próximos à cesta; </li>\n",
    "    <li> Os adversários acertam 36,5% dos arremessos de três pontos contra Indiana, indicando uma defesa de perímetro apenas mediana; </li>\n",
    "    <li> O número de arremessos livres sofridos pode significar um time que comete muitas faltas, se em alto número. No caso dos Pacers, esse número está na média da liga. </li>\n",
    "</ol>"
   ]
  },
  {
   "cell_type": "markdown",
   "metadata": {},
   "source": [
    "<h2> <center> Análise Descritiva dos Dados (ADD) individuais do Indiana Pacers"
   ]
  },
  {
   "cell_type": "markdown",
   "metadata": {},
   "source": [
    "Nesta parte do estudo, irei analisar os dados individuais dos jogadores do Indiana Pacers e compará-los com o resto dos jogadores da liga. Isto irá me ajudar a compreender os jogadores mais relevantes do time, suas contribuições ofensivas e defensivas, e explorar as necessidades posicionais da franquia para o futuro."
   ]
  },
  {
   "cell_type": "markdown",
   "metadata": {},
   "source": [
    "Para iniciar, começarei filtrando do df_players as estatísticas dos jogadores do Indiana Pacers e salvando-as em um novo dataframe chamado \"indiana_df\""
   ]
  },
  {
   "cell_type": "code",
   "execution_count": null,
   "metadata": {},
   "outputs": [],
   "source": [
    "#Dataframe com as estatísticas dos jogadores do Indiana Pacers\n",
    "indiana_df = df_players.loc[df_players[\"Tm\"] == \"IND\", [\"Player\", \"G\", \"GS\", \"MP\", \"Pos\", \"PTS\", \"ORB\", \"DRB\", \"TRB\", \"AST\", \"STK\", \"FG\", \"FGA\", \"FG%\", \"2PA\", \"2P\", \"2P%\", \"3PA\", \"3P\", \"3P%\", \"FT\", \"FTA\", \"FT%\", \"eFG%\"]].sort_values(by = \"GS\", ascending = False)\n",
    "\n",
    "indiana_df"
   ]
  },
  {
   "cell_type": "markdown",
   "metadata": {},
   "source": [
    "Indiana possui 22 jogadores em seu roster. Como indicado no começo do estudo, os 5 jogadores com mais jogos iniciados em quadra serão considerados os titulares. Dito isso, os titulares de Indiana e suas respectivas posições são:\n",
    "<ul>\n",
    "    <li>Myles Turner (Pivô (C))</li>\n",
    "    <li>Tyrese Haliburton (Armador (PG))</li>\n",
    "    <li>Aaron Nesmith (Ala (SF))</li>\n",
    "    <li>Andrew Nembhard (Armador (PG))</li>\n",
    "    <li>Pascal Siakam (Ala-pivô (PF))</li>\n",
    "</ul>\n",
    "\n",
    "Alguns jogadores que pouco entraram em quadra, seja como titulares ou reservas, embora estejam presentes nos gráficos, terão pouca relevância ou não serão mencionados, pois suas contribuições foram quase nulas."
   ]
  },
  {
   "cell_type": "markdown",
   "metadata": {},
   "source": [
    "<h3> <center> Gráfico de estatísticas cumulativas dos jogadores do Indiana Pacers"
   ]
  },
  {
   "cell_type": "markdown",
   "metadata": {},
   "source": [
    "Assim como na análise coletiva, também serão feitos gráficos para estatísticas acumuladas. Nesse caso, elas são obtidas pelo somatório da estatística determinada, realizada pelo jogador em todos os jogos da temporada, dividido pelo número total de partidas (82). As estatísticas acumuladas serão mostradas em uma figura contendo 6 gráficos. Os gráficos apresentarão as médias de todos os jogadores do Indiana Pacers e também terão uma linha vermelha, que representa a média da liga nesse aspecto.\n",
    "A figura conterá os gráficos com as estatísticas:\n",
    "<ul>\n",
    "    <li>Pontos por jogo (PPG)</li>\n",
    "    <li>Rebotes totais por jogo (TRB)</li>\n",
    "    <li>Rebotes ofensivos por jogo (ORB)</li>\n",
    "    <li>Rebotes defensivos por jogo (DRB)</li>\n",
    "    <li>Assistências por jogo (AST)</li>\n",
    "    <li>Stocks por jogo (STK)</li>\n",
    "</ul>"
   ]
  },
  {
   "cell_type": "code",
   "execution_count": null,
   "metadata": {},
   "outputs": [],
   "source": [
    "df_filtered = df_players[df_players[\"Tm\"] == \"TOT\"].copy() #Filtra os jogadores que jogaram em mais dois times, guardando apenas a média \"TOT\" deles.\n",
    "\n",
    "single_team_players = df_players[~df_players[\"Player\"].isin(df_filtered[\"Player\"])].copy() #Filta os jogadores que não estão no df_filtered, ou seja, os jogadores que jogaram em apenas um time.\n",
    "\n",
    "df_filtered = pd.concat([df_filtered, single_team_players]) #Concatena os dataframes df_filtered e single_team_players, formando o dataframe com a média geral de todos os jogadores da liga.\n",
    "\n",
    "overall_mean = df_filtered[\"PTS\"].mean()\n",
    "\n",
    "columns = [\"PTS\", \"TRB\", \"ORB\", \"DRB\", \"AST\", \"STK\"] #Estatísticas que serão utilizadas nos gráficos\n",
    "\n",
    "#Construção dos Gráficos\n",
    "fig, axes = plt.subplots(nrows = 2, ncols = 3, figsize = (30, 12))\n",
    "axes = axes.flatten()\n",
    "\n",
    "for i, column in enumerate(columns):\n",
    "    ax = axes[i]\n",
    "\n",
    "    sorted_indiana_df = indiana_df.sort_values(by = column, ascending = False)\n",
    "\n",
    "    league_mean = df_filtered[column].mean()\n",
    "    \n",
    "    sns.set_style(\"darkgrid\")\n",
    "    sns.barplot(\n",
    "        y = \"Player\",\n",
    "        x = column,\n",
    "        data = sorted_indiana_df,\n",
    "        ax  = ax,\n",
    "        hue = \"Player\",\n",
    "        palette = \"Blues_r\",\n",
    "        orient = \"h\",\n",
    "        legend = False,\n",
    "    )\n",
    "\n",
    "    ax.axvline(x = league_mean, color = 'red', linestyle = '--', linewidth = 1.2, label = f\"Média ({league_mean:.2f}\")\n",
    "    ax.set_title(f\"{column} per Game\", fontsize = 12)\n",
    "    ax.set_xlabel(None)\n",
    "    ax.set_ylabel(None)\n",
    "    ax.spines[[\"top\", \"right\"]].set_visible(False)\n",
    "\n",
    "    for bar in ax.patches:\n",
    "        ax.annotate(\n",
    "            f\"{bar.get_width():.1f}\",\n",
    "            (bar.get_width(), bar.get_y() + bar.get_height() / 2),\n",
    "            fontsize = 8,\n",
    "            color = \"black\",\n",
    "            va =  \"center\",\n",
    "            ha = \"left\",\n",
    "            xytext = (3, 0),\n",
    "            textcoords = \"offset points\",\n",
    "        )\n",
    "\n",
    "plt.show()"
   ]
  },
  {
   "cell_type": "markdown",
   "metadata": {},
   "source": [
    "Dado estes 6 gráficos, nota-se alguns pontos:\n",
    "\n",
    "<ol>\n",
    "    <li> O Indiana Pacers possui uma ótima distribuição de pontos por jogador, com 9 jogadores acima de 10 pontos por jogo e 11 jogadores acima da média de pontos da liga, considerando todos os jogadores; </li>\n",
    "    <li> Tyrese Haliburton é o principal responsável pelo ataque, liderando o time em assistências e sendo um dos líderes em pontos. Destaca-se também sua contribuição defensiva, com 1,9 stocks por jogo; </li>\n",
    "    <li> Pascal Siakam é uma peça-chave para o time, liderando-o em pontos, rebotes ofensivos, rebotes defensivos e rebotes totais, além de estar acima da média da liga nas demais estatísticas; </li>\n",
    "    <li> Embora tenha uma enorme presença ofensiva e defensiva, Myles Turner destaca-se negativamente nos rebotes, fundamento essencial para sua posição, sendo de se esperar que ele fosse o líder nesse quesito. Isso fica ainda mais acentuado nos rebotes ofensivos (ORB), em que sua média é mais baixa que a dos reservas Jalen Smith e Isaiah Jackson, o que evidencia ainda mais a lacuna de talentos em rebotes presente no time; </li>\n",
    "    <li> T.J. McConnell, Obi Toppin, Buddy Hield e Bruce Brown são os jogadores mais impactantes do banco de reservas, considerando, no geral, todos os fundamentos presentes nos gráficos; </li>\n",
    "    <li> Nas assistências, existe um abismo de diferença entre o líder, Haliburton, e o restante dos jogadores. A longo prazo, essa dependência excessiva de Tyrese na criação de jogadas pode ser prejudicial para o time, por fatores como marcação reforçada dos adversários sobre ele e possíveis lesões do jogador. </li>\n",
    "</ol>"
   ]
  },
  {
   "cell_type": "markdown",
   "metadata": {},
   "source": [
    "<h3> <center> Gráfico de participação por minuto"
   ]
  },
  {
   "cell_type": "markdown",
   "metadata": {},
   "source": [
    "Para analisar o impacto que cada jogador em quadra utilizarei o gráfico de participação por minuto. Ele mostra quantos pontos, assistências, rebotes ou stocks, um jogador faz por minuto em quadra."
   ]
  },
  {
   "cell_type": "code",
   "execution_count": null,
   "metadata": {},
   "outputs": [],
   "source": [
    "indiana_df[\"Participation per Minute\"] = (indiana_df[\"PTS\"] + indiana_df[\"TRB\"] + indiana_df[\"AST\"] + indiana_df[\"STK\"]) / indiana_df[\"MP\"]\n",
    "\n",
    "plt.figure(figsize = (15, 6))\n",
    "sns.set_style(\"darkgrid\")\n",
    "\n",
    "scatter = sns.scatterplot(\n",
    "    data = indiana_df,\n",
    "    x = \"MP\",\n",
    "    y = \"Participation per Minute\",\n",
    "    s = 100,\n",
    ")\n",
    "\n",
    "for index, txt in enumerate(indiana_df[\"Player\"]):\n",
    "    plt.annotate(\n",
    "        txt,\n",
    "        (indiana_df.iloc[index][\"MP\"], indiana_df.iloc[index][\"Participation per Minute\"]),\n",
    "        fontsize = 8,\n",
    "        textcoords = \"offset points\",\n",
    "        xytext = (6, -3), \n",
    "        ha = \"left\"\n",
    "    )\n",
    "\n",
    "plt.grid(True, linestyle = \"--\", alpha = 0.7)\n",
    "plt.title(\"Participation per Minute\", fontsize = 14)\n",
    "plt.xlabel(\"Minutes per Game\", fontsize = 12)\n",
    "plt.ylabel(\"Participation / Minutes\", fontsize = 12)\n",
    "plt.tight_layout()\n",
    "\n",
    "plt.show()"
   ]
  },
  {
   "cell_type": "markdown",
   "metadata": {},
   "source": [
    "<p>\n",
    "    Por este gráfico, pode-se perceber ainda mais o impacto que Tyrese Haliburton e Pascal Siakam têm em quadra, registrando mais de uma participação por minuto e jogando mais de 30 minutos por partida, cada um. Embora tenha problemas com rebotes, Myles Turner também é peça fundamental e extremamente participativo quando está em quadra. Destacam-se, mais uma vez, os jogadores reservas, que mantêm um bom nível de participação, o que ajuda a preservar o ritmo do time durante o jogo.\n",
    "</p>"
   ]
  },
  {
   "cell_type": "markdown",
   "metadata": {},
   "source": [
    "<h3> <center> Gráficos de volume e eficiência de arremessos"
   ]
  },
  {
   "cell_type": "markdown",
   "metadata": {},
   "source": [
    "Os gráficos de volume e eficiência de arremesso correlacionam a quantidade de arremessos específicos tentados por jogo por um determinado jogador com a quantidade de acertos desse tipo de arremesso. Eles permitem identificar quais jogadores são mais eficientes ofensivamente e quais são mais responsáveis pelo ataque. Para isso, podem ser visualizados 3 gráficos abaixo:\n",
    "<ul>\n",
    "    <li> Arremessos de quadra de 2 pontos </li>\n",
    "    <li> Arremessos de quadra de 3 pontos </li>\n",
    "    <li> Arremessos de quadra (soma dos arremessos de 2 e 3 pontos) </li>\n",
    "</ul>"
   ]
  },
  {
   "cell_type": "code",
   "execution_count": null,
   "metadata": {},
   "outputs": [],
   "source": [
    "efficiency_scatter(indiana_df, [\"2P%\", \"2PA\"], \"Eficiência de arremessos de 2 pontos\")"
   ]
  },
  {
   "cell_type": "markdown",
   "metadata": {},
   "source": [
    "<p>\n",
    "No gráfico referente aos arremessos de 2 pontos, nota-se um amplo domínio de Pascal Siakam, o qual combina uma ótima eficiência (57,99%) e alto volume (em torno de 13 arremessos por jogo), destacando seu papel de finalizador de jogadas, principalmente próximas à cesta. Entretanto, também se destaca que há uma diferença colossal entre o volume que Siakam possui em arremessos de 2 pontos e o restante do time, com uma diferença de mais de 70% em relação ao segundo jogador que mais tenta, T.J. McConnell. Outros jogadores com minutagem relevante, como Haliburton, Toppin, Mathurin, Turner e o próprio McConnell, aparecem com um volume relativamente baixo, mesmo apresentando boa eficiência.\n",
    "</p>"
   ]
  },
  {
   "cell_type": "code",
   "execution_count": null,
   "metadata": {},
   "outputs": [],
   "source": [
    "efficiency_scatter(indiana_df, [\"3P%\", \"3PA\"], \"Eficiência de arremessos de 3 pontos\")"
   ]
  },
  {
   "cell_type": "markdown",
   "metadata": {},
   "source": [
    "\n",
    "<p>\n",
    "    No perímetro, também há uma grande diferença entre o volume dos dois jogadores que mais tentam (Haliburton e Hield) para o resto do time. No quesito, Tyrese Haliburton e Buddy Hield são os destaques principais, aliando um alto volume (quase 8 arremessos por jogo) com uma alta eficiência (próxima de 39%). Myles Turner também aparece com certo destaque, com números de tentativas e eficiência altíssimos para um pivô. Uma grata surpresa que o gráfico mostra é o Aaron Nesmith. Ele é o segundo jogador que mais converte bolas triplas, com mais de 42% de eficiência, um número muito alto para a NBA, mostrando que ele pode se tornar uma sniper confiável no elenco. Além disso, também se observa que o arremesso de 3 pontos é a principal fraqueza do jogo do armador T.J. McConnell. Mesmo sendo um armador, ele raramente tenta esse tipo de arremesso nos jogos, apesar de ter um bom desempenho quando o faz.\n",
    "</p>"
   ]
  },
  {
   "cell_type": "code",
   "execution_count": null,
   "metadata": {},
   "outputs": [],
   "source": [
    "efficiency_scatter(indiana_df, [\"FG%\", \"FGA\"], \"Eficiência de arremessos de quadra\")"
   ]
  },
  {
   "cell_type": "markdown",
   "metadata": {},
   "source": [
    "<p>\n",
    "    O gráfico de eficiência geral mostra uma visão ainda mais holística da contribuição ofensiva de cada jogador. Pascal Siakam lidera mais uma vez, sendo o jogador com maior volume e eficiência, ressaltando ainda mais seu papel de protagonista ofensivo. Tyrese Haliburton vem logo atrás, com volume e eficiência parecidos, porém com o diferencial de ser uma arma também no perímetro. Salienta-se também o impacto de alguns jogadores reservas — principalmente T.J. McConnell, Obi Toppin, Bruce Brown, Jalen Smith, Bennedict Mathurin e Buddy Hield — os quais também aliam bom volume e boa eficiência. \n",
    "</p>\n",
    "<p>\n",
    "    Negativamente, destaca-se o novato Ben Sheppard. O atleta, que entra constantemente nos jogos da equipe, não possui boa eficiência (menos de 40%), mesmo tendo um volume de arremessos relevante para a segunda unidade, sendo este um ponto a ser melhorado em seu jogo.\n",
    "</p>"
   ]
  },
  {
   "cell_type": "markdown",
   "metadata": {},
   "source": [
    "<h3> <center> Comparação entre o quinteto titular do Indiana com o resto dos titulares da NBA "
   ]
  },
  {
   "cell_type": "markdown",
   "metadata": {},
   "source": [
    "Agora, irei comparar as médias dos titulares do Indiana Pacers com o resto dos titulares da liga em suas respectivas posições. Para isto, primeiramente extrairei a média dos titulares de cada franquia da NBA e salvarei em um dataframe."
   ]
  },
  {
   "cell_type": "code",
   "execution_count": null,
   "metadata": {},
   "outputs": [],
   "source": [
    "set_teams = set(team for team in df_players[\"Tm\"] if \"Tm\" != \"TOT\") #Set com a sigla de todos os times da liga, exceto \"TOT\"\n",
    "\n",
    "df_starters = pd.DataFrame() #Dataframe onde os dados serão guardados\n",
    "\n",
    "for team in set_teams:\n",
    "    df_leaders_players = df_players.loc[df_players[\"Tm\"] == team, [\"Player\", \"Pos\", \"Tm\", \"G\", \"GS\", \"MP\", \"PTS\", \"ORB\", \"DRB\", \"TRB\", \"AST\", \"STL\", \"BLK\", \"STK\", \"FG%\", \"2P%\", \"3P%\", \"eFG%\", \"FT%\"]].sort_values(by = \"GS\", ascending = False) #Procura no df_players os jogadores que pertencem ao \"team\" e salva-os, ordenando-os por jogos iniciados\n",
    "\n",
    "    df_starters = pd.concat([df_starters, df_leaders_players.head(5)]) #Concatena no df_starters apenas os 5 primeiros jogadores de df_leaders_players"
   ]
  },
  {
   "cell_type": "markdown",
   "metadata": {},
   "source": [
    "Com todos os jogadores titulares no dataframe, usarei a função \"media\" para obter listas com a média estatística de cada posição do jogo entre os titulares e também as médias dos jogadores titulares dos Pacers."
   ]
  },
  {
   "cell_type": "code",
   "execution_count": null,
   "metadata": {},
   "outputs": [],
   "source": [
    "#Médias por posição baseadas nos titulares (5 jogadores com mais GS de cada time) da liga\n",
    "mean_stats_pg = media(df_starters, df_players, \"Pos\", \"PG\", [\"PTS\", \"AST\", \"TRB\", \"STK\", \"FG%\", \"eFG%\", \"2P%\", \"3P%\", \"FT%\"])\n",
    "mean_stats_center = media(df_starters, df_players, \"Pos\", \"C\", [\"PTS\", \"AST\", \"TRB\", \"STK\", \"FG%\", \"eFG%\", \"2P%\", \"3P%\", \"FT%\"])\n",
    "mean_stats_sg = media(df_starters, df_players, \"Pos\", \"SG\", [\"PTS\", \"AST\", \"TRB\", \"STK\", \"FG%\", \"eFG%\", \"2P%\", \"3P%\", \"FT%\"])\n",
    "mean_stats_sf = media(df_starters, df_players, \"Pos\", \"SF\", [\"PTS\", \"AST\", \"TRB\", \"STK\", \"FG%\", \"eFG%\", \"2P%\", \"3P%\", \"FT%\"])\n",
    "mean_stats_pf = media(df_starters, df_players, \"Pos\", \"PF\", [\"PTS\", \"AST\", \"TRB\", \"STK\", \"FG%\", \"eFG%\", \"2P%\", \"3P%\", \"FT%\"])\n",
    "\n",
    "#Média dos jogadores dos Pacers\n",
    "haliburton_stats = media(df_starters, df_players, \"Player\", \"Tyrese Haliburton\", [\"PTS\", \"AST\", \"TRB\", \"STK\", \"FG%\", \"eFG%\", \"2P%\", \"3P%\", \"FT%\"])\n",
    "siakam_stats = media(df_starters, df_players, \"Player\", \"Pascal Siakam\", [\"PTS\", \"AST\", \"TRB\", \"STK\", \"FG%\", \"eFG%\", \"2P%\", \"3P%\", \"FT%\"])\n",
    "turner_stats = media(df_starters, df_players, \"Player\", \"Myles Turner\", [\"PTS\", \"AST\", \"TRB\", \"STK\", \"FG%\", \"eFG%\", \"2P%\", \"3P%\", \"FT%\"])\n",
    "nesmith_stats = media(df_starters, df_players, \"Player\", \"Aaron Nesmith\", [\"PTS\", \"AST\", \"TRB\", \"STK\", \"FG%\", \"eFG%\", \"2P%\", \"3P%\", \"FT%\"])\n",
    "nembhard_stats = media(df_starters, df_players, \"Player\", \"Andrew Nembhard\", [\"PTS\", \"AST\", \"TRB\", \"STK\", \"FG%\", \"eFG%\", \"2P%\", \"3P%\", \"FT%\"])"
   ]
  },
  {
   "cell_type": "markdown",
   "metadata": {},
   "source": [
    "Agora que as estatísiticas já estão salvas, os gráficos serão plotados. As estatísticas abaixo serão plotadas em uma figura com dois gráficos de radar para cada jogador. Um gráfico será de estatísticas acumulativas e o outro de estatísticas percentuais."
   ]
  },
  {
   "cell_type": "code",
   "execution_count": null,
   "metadata": {},
   "outputs": [],
   "source": [
    "subjects_1 = [\"PTS\", \"AST\", \"TRB\", \"STK\"] #Estatísticas usadas no 1° gráfico\n",
    "subjects_2 = [\"FG%\", \"eFG%\", \"2P%\", \"3P%\", \"FT%\"] #Estatísticas usadas no 2° gráfico"
   ]
  },
  {
   "cell_type": "markdown",
   "metadata": {},
   "source": [
    "<h3> <center> Tyrese Haliburton vs armadores"
   ]
  },
  {
   "cell_type": "code",
   "execution_count": null,
   "metadata": {},
   "outputs": [],
   "source": [
    "plot_radar_charts(\n",
    "    subjects_1, mean_stats_pg[:4], \n",
    "    subjects_2, mean_stats_pg[4:], \n",
    "    mean_stats_pg, haliburton_stats, \n",
    "    \"Média dos armadores\", \"Tyrese Haliburton\", \n",
    "    'g', 'orange'\n",
    ")"
   ]
  },
  {
   "cell_type": "markdown",
   "metadata": {},
   "source": [
    "Tyrese Haliburton possui um desempenho em assistências muito acima da média dos titulares da liga, aliando isso a uma quantidade de pontos também muito alta, levemente abaixo da média da sua posição. Seu percentual de arremessos convertidos também é bastante alto, estando acima da média em quase todos os fundamentos, exceto em bolas de 3 pontos — embora, mesmo neste quesito, ainda possua uma média excelente. Sua capacidade de gerar pontos, direta ou indiretamente, em conjunto com sua eficiência, o torna uma ameaça contínua para as defesas adversárias, fazendo dele um dos melhores jogadores em sua posição.\n",
    "</p>"
   ]
  },
  {
   "cell_type": "markdown",
   "metadata": {},
   "source": [
    "<h3> <center> Andrew Nembhard vs armadores"
   ]
  },
  {
   "cell_type": "code",
   "execution_count": null,
   "metadata": {},
   "outputs": [],
   "source": [
    "plot_radar_charts(\n",
    "    subjects_1, mean_stats_pg[:4], \n",
    "    subjects_2, mean_stats_pg[4:], \n",
    "    mean_stats_pg, nembhard_stats, \n",
    "    \"Média dos armadores\", \"Andrew Nembhard\", \n",
    "    'g', 'orange'\n",
    ")"
   ]
  },
  {
   "cell_type": "markdown",
   "metadata": {},
   "source": [
    "Como dito anteriormente, Andrew Nembhard possui um baixo volume de arremessos tentados por jogo, insight que é refletido na sua baixa pontuação. Porém ele possui as taxas de conversão de arremessos (FG%), conversão de arremessos de 2 pontos (2P%) e a de eficiência de arremessos (eFG%) altíssimas, além de uma bola de 3 confiável. Suas médias nos fundamentos básicos são todas abaixo do padrão NBA. Tais constatações refletem que o jogador é a última opção ofensiva do quinteto titular e provavelmente um especialista em defesa de jogadores adversários. Com isto em mente, é natural que ele possua médias abaixo da linha da NBA e que são até decentes para seu estilo de jogo, porém um aumento na sua contribuição on-ball pode ser útil para aliviar a pressão de criação de jogadas do Tyrese Haliburton e diversificar o playmaking do time. Um aumento gradual no seu volume de arremessos também seria de boa ajuda no ataque, pois como destacado suas médias de conversão de arremessos são altíssimas."
   ]
  },
  {
   "cell_type": "markdown",
   "metadata": {},
   "source": [
    "<h4> <center> Myles Turner vs pivôs"
   ]
  },
  {
   "cell_type": "code",
   "execution_count": null,
   "metadata": {},
   "outputs": [],
   "source": [
    "plot_radar_charts(\n",
    "    subjects_1, mean_stats_center[:4], \n",
    "    subjects_2, mean_stats_center[4:], \n",
    "    mean_stats_center, turner_stats, \n",
    "    \"Média dos pivôs\", \"Myles Turner\", \n",
    "    'g', 'orange'\n",
    ")"
   ]
  },
  {
   "cell_type": "markdown",
   "metadata": {},
   "source": [
    "Diferentemente dos pivôs tradicionais, Myles Turner tem o arremesso de 3 pontos como seu principal diferencial. Sua taxa de conversão de arremessos de 3 pontos é fora do normal para um jogador da posição, ajudando no espaçamento de quadra do time e na infiltração dos armadores no garrafão, contribuindo para a explosividade do ataque dos Pacers. Seu arremesso de 2 pontos e arremesso livre também são altamente eficazes, e mesmo abaixo da média, seu FG% é decente, pois ele tenta muito mais arremessos de 3 pontos que os outros jogadores da sua posição. Seu desempenho em pontos por jogo e stocks por jogo também são excelentes e embora seu desempenho em assistências seja abaixo da média dos pivôs, é decente para o time, pois seu aspecto principal é ser um finalizador de jogadas. O desempenho em rebotes é seu único ponto negativo, porém melhorando nesse quesito, ele tem pleno potencial para ser um jogador elite entre os pivôs."
   ]
  },
  {
   "cell_type": "markdown",
   "metadata": {},
   "source": [
    "<h4> <center> Pascal Siakam vs alas-pivôs"
   ]
  },
  {
   "cell_type": "code",
   "execution_count": null,
   "metadata": {},
   "outputs": [],
   "source": [
    "plot_radar_charts(\n",
    "    subjects_1, mean_stats_pf[:4], \n",
    "    subjects_2, mean_stats_pf[4:], \n",
    "    mean_stats_pf, siakam_stats, \n",
    "    \"Média dos alas-pivôs\", \"Pascal Siakam\", \n",
    "    'g', 'orange'\n",
    ")"
   ]
  },
  {
   "cell_type": "markdown",
   "metadata": {},
   "source": [
    "Pascal Siakam foi um jogador adquirido no meio da temporado e se mostrou extremamente consistente em todos os aspectos do seu jogo, deixando um pouco a desejar somente em lances livres e arremessos de 3, o que não interfere tanto em seu estilo de jogo. A única coisa a se falar sobre ele, é que suas métricas demonstram que ele não é só um dos melhores jogadores dos Pacers, mas sim um dos melhores e mais eficientes jogadores em atividade na sua posição."
   ]
  },
  {
   "cell_type": "markdown",
   "metadata": {},
   "source": [
    "<h4> <center> Aaron Nesmith vs alas"
   ]
  },
  {
   "cell_type": "code",
   "execution_count": null,
   "metadata": {},
   "outputs": [],
   "source": [
    "plot_radar_charts(\n",
    "    subjects_1, mean_stats_sf[:4], \n",
    "    subjects_2, mean_stats_sf[4:], \n",
    "    mean_stats_sf, nesmith_stats, \n",
    "    \"Média dos alas\", \"Aaron Nesmith\", \n",
    "    'g', 'orange'\n",
    ")"
   ]
  },
  {
   "cell_type": "markdown",
   "metadata": {},
   "source": [
    "Nas estatísticas básicas, Aaron Nesmith apresenta uma pontuação ligeiramente abaixo da média dos alas, consequência do seu volume de arremessos não tão alto. Sua participação em rebotes e assistências é preocupante, ambas significativamente abaixo da média da sua posição entre os titulares da liga. No lado defensivo, Nesmith possui média de tocos e roubos levemente acima da média, mostrando-se um defensor decente. Quando olhamos para a eficiência de arremessos, Nesmith exibe seu maior diferencial. Entre os titulares do Indiana Pacers, Nesmith é o que possui o maior eFG% com mais de 60%, além de ser eficiente em todos os tipos de arremessos. Sua incrível porcentagem de mais de 40% em arremessos de 3 pontos, torna-o uma ameaça letal do perímetro, e aliado com sua defesa sólida o qualifica como um ótimo 3&D. Com isso, fica evidente que Nesmith é um ala valioso, casando perfeitamente com o sistema ofensivo e aproveitando-se da crição de jogadas dos demais jogadores. Com pequenas evoluções, como mais agressividade em direção a cesta e um maior envolvimente nos rebotes, ele pode se transformar em um ala ainda mais completo."
   ]
  },
  {
   "cell_type": "markdown",
   "metadata": {},
   "source": [
    "<h2> <center> Conclusões"
   ]
  },
  {
   "cell_type": "markdown",
   "metadata": {},
   "source": [
    "Principais insights:\n",
    "\n",
    "<ul>\n",
    "    <li> <strong> Ataque explosivo e coletivo:</strong> O Indiana possui discutivelmente o melhor ataque da NBA. Além de ser o 1° em pontos e assistências, os dados indicam que o sistema ofensivo de Indiana também é equilibrado e coletivo na finalização de jogadas </li>\n",
    "    <li> <strong> Alta eficiência nos arremessos:</strong> O time apresenta ótimo rendimento nos arremessos de quadra, com destaque para a precisão da bola de 2 pontos </li>\n",
    "    <li> <strong> Ótimas Aquisicões na offseason:</strong> As aquisiçãos de Obi Toppin e do importantíssimo Pascal Siakam, foram movimentos que elevaram o nível da equipe e que compensaram a saída dos bancários Bruce Brown e Buddy Hield, que foram utilizados como moeda de troca. Siakam foi o líder do time em pontos e rebotes, e um dos jogadores mais consistentes em toda a NBA. Já Obi Toppin foi um reserva que entrou em todos os jogos do time e entregou bons números para um bancário </li>\n",
    "    <li> <strong> Tyrese Haliburton:</strong> O franchise player da equipe teve uma temporada de consolidação entre os melhores da sua posição. Com média de duplo-duplo, Haliburton aliou criatividade com eficiência, sendo talvez o principal responsável por reerguer a cultura vencedora no Indiana Pacers </li>\n",
    "    <li> <strong> Myles Turner e Aaron Nesmith: </strong> ambos se destacam como opções defensivas sólidas, além de contribuírem ofensivamente, principalmente espaçando a quadra </li>\n",
    "    <li> <strong> Banco participativo:</strong> a rotação dos Pacers é sólida e produtiva, com um banco que contribui ofensivamente e mantém o ritmo da equipe mesmo quando os titulares descansam. </li>\n",
    "    <li> <strong> Dependência excessiva de Haliburton na criação de jogads:</strong> Apesar de seu talento e visão de jogo, o quinteto titular depende excessivamente de Haliburton para armar as jogadas. Essa centralização pode tornar a equipe vulnerável quando ele está mal ou ausente </li>\n",
    "    <li> <strong> Defesa frágil:</strong> Embora possua bons números em tocos e roubos, a equipe de Indianápolis é dona de uma das piores defesas da NBA. Além de ser uma equipe que toma muitos pontos por jogo, também permite uma alta taxa de conversão de arremessos, tanto no garrafão, quanto no perímetro. Este é um ponto extremamente preocupante para um time que futuramente deve figurar frequentemente nos playoffs, onde defesas sólidas costumam se sobressair </li>\n",
    "    <li> <strong> Deficiência em rebotes:</strong> Os rebotes são um dos maiores pontos críticos da equipe. O desempenho é pífio, principalmente em rebotes defensivos, onde possíveis adversários diretos em séries de playoffs, como o Boston Celtics e o New York Knicks, podem facilmente explorar</li>\n",
    "    <li> <strong> Classe de rookies fraca:</strong> Dos três rookies da equipe, apenas Ben Sheppard teve minutos de jogo significativos, sendo o único a se consolidar na rotação do elenco, consequentemente também sendo o que demonstrou mais potencial de evolução. Jarace Walker teve poucos jogos e poucos minutos de média. Por último, Isaiah Wong participou de apenas um jogo da equipe.</li>\n",
    "</ul>\n"
   ]
  },
  {
   "cell_type": "markdown",
   "metadata": {},
   "source": [
    "Sugestões para melhoria de performance:\n",
    "\n",
    "<ul>\n",
    "    <li> Reforçar o garrafão com reboteiros </li>\n",
    "        <ol>\n",
    "            <li> Buscar pivôs ou ala-pivôs com bom histórico de rebotes (tanto via draft, quanto trocas) </li>\n",
    "            <li> Trabalhar para que principalmente Myles Turner desenvolva este aspecto em seu jogo </li>\n",
    "            <li> Estimular esforço do time inteiro nos rebotes - apenas Siakam está acima da média nessa métrica. </li>\n",
    "        </ol>\n",
    "    <li> Reestruturar a parte defensiva </li>\n",
    "        <ol>\n",
    "            <li> Implementar um esquema de ajuda defensiva mais estruturado, principalmente no garrafão </li>\n",
    "            <li> Investir em bons defensores de perímetro, já que os adversários convertem um número considerável de arremessos de 3 pontos </li>\n",
    "            <li> Reduzir a minutagem de jogadores com baixa entrega defensiva, em momentos chaves dos jogos </li>\n",
    "        </ol>\n",
    "    <li> Diversificar o playmaking </li>\n",
    "        <ol>\n",
    "            <li> Incentivar maior participação on-ball de Andrew Nembhard </li>\n",
    "            <li> Utilizar rotações onde Tyrese Haliburton e T.J. McConnell atuam juntos </li>\n",
    "        </ol>\n",
    "    <li> Otimização ofensiva </li>\n",
    "        <ol>\n",
    "            <li> Continuar priorizando cestas de alta eficiência, como bandejas, pick and roll, etc. </li>\n",
    "            <li> Aumentar o volume de arremessos de jogadores com alta eficiência, mas baixo volume, como Nembhard e Nesmith </li>\n",
    "            <li> Obter um bom shooter de 3 pontos para suprir as saídas de Bruce Brown e Buddy Hield </li>\n",
    "        </ol>\n",
    "    <li> Desenvolvimento de rookies </li>\n",
    "        <ol>\n",
    "            <li> Dar mais minutos de jogo para Ben Sheppard em seu segundo ano </li>\n",
    "            <li> Utilizar Jarace Walker em jogos menos importantes, para avaliar seu real potencial </li>\n",
    "            <li> Continuar utilizando Isaiah Wong no time da G-League </li>\n",
    "        </ol>\n",
    "</ul>"
   ]
  }
 ],
 "metadata": {
  "kernelspec": {
   "display_name": "Python 3",
   "language": "python",
   "name": "python3"
  },
  "language_info": {
   "codemirror_mode": {
    "name": "ipython",
    "version": 3
   },
   "file_extension": ".py",
   "mimetype": "text/x-python",
   "name": "python",
   "nbconvert_exporter": "python",
   "pygments_lexer": "ipython3",
   "version": "3.13.0"
  }
 },
 "nbformat": 4,
 "nbformat_minor": 2
}
