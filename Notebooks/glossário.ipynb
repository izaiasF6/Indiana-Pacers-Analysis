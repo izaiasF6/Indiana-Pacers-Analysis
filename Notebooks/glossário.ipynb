{
 "cells": [
  {
   "cell_type": "markdown",
   "id": "74dfd8da",
   "metadata": {},
   "source": [
    "<h3> <center> Glossário de informações de um jogador </center> </h3>\n",
    "\n",
    "<ul>\n",
    "    <li> <strong> Player</strong>: nome do jogador </li>\n",
    "    <li> <strong> Tm </strong> ou <strong> Team</strong>: nome da equipe que o jogador atuou </li>\n",
    "    <li> <strong> Pos</strong>: posição do jogador </li>\n",
    "    <li> <strong> Age</strong>: idade do jogador </li>\n",
    "</ul>"
   ]
  },
  {
   "cell_type": "markdown",
   "id": "1ca32e14",
   "metadata": {},
   "source": [
    "<h3> <center> Glossário de estatísticas </center> </h3>\n",
    "\n",
    "<ul>\n",
    "    <li> <strong> G</strong>: quantidade de jogos disputados por um jogador </li>\n",
    "    <li> <strong> GS</strong>: quantidade de jogos disputados por um jogador como titular </li>\n",
    "    <li> <strong> MP</strong>: média de minutos jogados por jogo de um jogador </li>\n",
    "    <li> <strong> PTS</strong>: média de pontos por jogo de um jogador ou equipe </li>\n",
    "    <li> <strong> AST</strong>: média de assistências por jogo de um jogador ou equipe </li>\n",
    "    <li> <strong> ORB</strong>: média de rebotes ofensivos por jogo de um jogador ou equipe </li>\n",
    "    <li> <strong> DRB</strong>: média de rebotes defensivos por jogo de um jogador ou equipe </li>\n",
    "    <li> <strong> TRB</strong>: soma da média dos rebotes ofensivos e defensivos por jogo de um jogador ou equipe </li>\n",
    "    <li> <strong> STL</strong>: média de roubos de bola por jogo de um jogador ou equipe </li>\n",
    "    <li> <strong> BLK</strong>: média de tocos por jogo de um jogador ou equipe </li>\n",
    "    <li> <strong> STK</strong>: soma da média de roubos de bola e tocos por jogo de um jogador ou equipe </li>\n",
    "    <li> <strong> FGA</strong>: quantidade de arremessos de quadra tentados por jogo de um jogador ou equipe </li>\n",
    "    <li> <strong> FG</strong>: quantidade de arremessos de quadra convertidos por jogo de um jogador ou equipe </li>\n",
    "    <li> <strong> FG%</strong>: porcentagem de arremessos convertidos por jogo de um jogador ou equipe </li>\n",
    "    <li> <strong> 2PA</strong>: quantidade de arremessos de dois pontos tentados por jogo de um jogador ou equipe </li>\n",
    "    <li> <strong> 2P</strong>: quantidade de arremessos de dois pontos convertidos por jogo de um jogador ou equipe </li>\n",
    "    <li> <strong> 2P%</strong>: porcentagem de arremessos de dois pontos convertidos por jogo de um jogador ou equipe </li>\n",
    "    <li> <strong> 3PA</strong>: quantidade de arremessos de três pontos tentados por jogo de um jogador ou equipe </li>\n",
    "    <li> <strong> 3P</strong>: quantidade de arremessos de três pontos convertidos por jogo de um jogador ou equipe </li>\n",
    "    <li> <strong> 3P%</strong>: porcentagem de arremessos de três pontos convertidos por jogo de um jogador ou equipe </li>\n",
    "    <li> <strong> eFG%</strong>: porcentagem de arremessos de quadra convertidos por jogo de um jogador ou equipe, ajustando o peso dos arremessos de três pontos </li>\n",
    "    <li> <strong> FTA</strong>: quantidade de lances livres tentados por jogo de um jogador ou equipe </li>\n",
    "    <li> <strong> FT</strong>: quantidade de lances livres convertidos por jogo de um jogador ou equipe </li>\n",
    "    <li> <strong> FT%</strong>: porcentagem de lances livres convertidos por jogo de um jogador ou equipe </li>\n",
    "    <li> <strong> OXXX</strong>: Siglas com \"O\" como caractere inicial significam a média de determinada estatística que o adversário da equipe realiza. Ex: OPTS, é a média de pontos que um time cede por jogo ao seu adversário </li>\n",
    "</ul>"
   ]
  },
  {
   "cell_type": "markdown",
   "id": "755addf9",
   "metadata": {},
   "source": [
    "<h3> <center> Glossário de times </center> </h3>\n",
    "\n",
    "<ul>\n",
    "    <li> <strong> ATL</strong>: Atlanta Hawks </li>\n",
    "    <li> <strong> BOS</strong>: Boston Celtics </li>\n",
    "    <li> <strong> BRK</strong>: Brooklyn Nets </li>\n",
    "    <li> <strong> CHO</strong>: Charlotte Hornets </li>\n",
    "    <li> <strong> CHI</strong>: Chicago Bulls </li>\n",
    "    <li> <strong> CLE</strong>: Cleveland Cavaliers </li>\n",
    "    <li> <strong> DAL</strong>: Dallas Mavericks </li>\n",
    "    <li> <strong> DEN</strong>: Denver Nuggets </li>\n",
    "    <li> <strong> DET</strong>: Detroit Pistons </li>\n",
    "    <li> <strong> GSW</strong>: Golden State Warriors </li>\n",
    "    <li> <strong> HOU</strong>: Houston Rockets </li>\n",
    "    <li> <strong> IND</strong>: Indiana Pacers </li>\n",
    "    <li> <strong> LAC</strong>: Los Angeles Clippers </li>\n",
    "    <li> <strong> LAL</strong>: Los Angeles Lakers </li>\n",
    "    <li> <strong> MEM</strong>: Memphis Grizzlies </li>\n",
    "    <li> <strong> MIA</strong>: Miami Heat </li>\n",
    "    <li> <strong> MIL</strong>: Milwaukee Bucks </li>\n",
    "    <li> <strong> MIN</strong>: Minnesota Timberwolves </li>\n",
    "    <li> <strong> NYK</strong>: New York Knicks </li>\n",
    "    <li> <strong> NOP</strong>: New Orleans Pelicans </li>\n",
    "    <li> <strong> OKC</strong>: Oklahoma City Thunder </li>\n",
    "    <li> <strong> ORL</strong>: Orlando Magic </li>\n",
    "    <li> <strong> PHI</strong>: Philadelphia 76ers </li>\n",
    "    <li> <strong> PHO</strong>: Phoenix Suns </li>\n",
    "    <li> <strong> POR</strong>: Portland Trail Blazers </li>\n",
    "    <li> <strong> SAC</strong>: Sacramento Kings </li>\n",
    "    <li> <strong> SAS</strong>: San Antonio Spurs </li>\n",
    "    <li> <strong> TOR</strong>: Toronto Raptors </li>\n",
    "    <li> <strong> UTA</strong>: Utah Jazz </li>\n",
    "    <li> <strong> WAS</strong>: Washington Wizards </li>\n",
    "    <li> <strong> TOT</strong>: \"Two or more teams\", indica que o jogador atuou por mais de um clube na mesma temporada </li>\n",
    "</ul>\n",
    "\n"
   ]
  },
  {
   "cell_type": "markdown",
   "id": "7c5f8398",
   "metadata": {},
   "source": [
    "<h3> <center> Glossário de posições </center> </h3>\n",
    "\n",
    "<ul>\n",
    "    <li> <strong> C(Center)</strong>: Pivô </li>\n",
    "    <li> <strong> PG(Point Guard)</strong>: Armador </li>\n",
    "    <li> <strong> PF(Power Forward)</strong>: Ala-pivô </li>\n",
    "    <li> <strong> SF(Small Forward)</strong>: Ala </li>\n",
    "    <li> <strong> SG(Shooting Guard)</strong>: Ala-armador </li>\n",
    "</ul>"
   ]
  },
  {
   "cell_type": "markdown",
   "id": "6b913fc7",
   "metadata": {},
   "source": [
    "<h3> <center> Outros termos utilizados </center> </h3>\n",
    "\n",
    "<ul>\n",
    "    <li> <strong> 3&D</strong>: jogador com habilidades defensivas sólidas e um bom arremesso de 3 pontos </li>\n",
    "    <li> <strong> Ball handler</strong>: jogador que costuma ficar com a posse de bola, geralmente iniciando as jogadas de ataque </li>\n",
    "    <li> <strong> Bandeja</strong>: arremesso de 2 pontos onde a bola acerta a tabela antes de entrar na cesta </li>\n",
    "    <li> <strong> Draft</strong>: sistema de seleção de jogadores vindos do basquete universitário ou ligas internacionais </li>\n",
    "    <li> <strong> Duplo-duplo</strong>: acontece quando o jogador faz dígitos duplos (10 ou mais) em duas categorias estatísticas principais </li>\n",
    "    <li> <strong> Garrafão</strong>: área da quadra próxima a cesta </li>\n",
    "    <li> <strong> G-League</strong>: liga de desenvolvimento da NBA </li>\n",
    "    <li> <strong> Pick and Roll</strong>: jogada específica entre o pivô e o armador </li>\n",
    "    <li> <strong> Playmaking</strong>: habilidade de criar jogadas </li>\n",
    "    <li> <strong> Playoffs</strong>: fase final da NBA onde os melhores times de cada conferência se enfrentam em séries de 7 jogos eliminatórios para decidir quem vai avançar às finais </li>\n",
    "    <li> <strong> Rookie</strong>: jogador que está em sua primeira temporada da NBA </li>\n",
    "    <li> <strong> Roster</strong>: elenco </li>\n",
    "    <li> <strong> Shooter</strong>: jogador com bom arremesso </li>\n",
    "    <li> <strong> Sniper</strong>: jogador especialista em arremessos de 3 pontos </li>\n",
    "</ul>"
   ]
  }
 ],
 "metadata": {
  "language_info": {
   "name": "python"
  }
 },
 "nbformat": 4,
 "nbformat_minor": 5
}
